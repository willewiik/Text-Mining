{
  "cells": [
    {
      "cell_type": "markdown",
      "metadata": {
        "id": "view-in-github",
        "colab_type": "text"
      },
      "source": [
        "<a href=\"https://colab.research.google.com/github/willewiik/Text-Mining/blob/main/pythonscript.ipynb\" target=\"_parent\"><img src=\"https://colab.research.google.com/assets/colab-badge.svg\" alt=\"Open In Colab\"/></a>"
      ]
    },
    {
      "cell_type": "code",
      "source": [
        "!git clone https://github.com/willewiik/text-mining.git\n",
        "%cd \"text-mining\""
      ],
      "metadata": {
        "colab": {
          "base_uri": "https://localhost:8080/"
        },
        "id": "n8U1dNxoBwlQ",
        "outputId": "109e6f26-3d4e-4e5b-b617-822dfa01bdf5"
      },
      "execution_count": 5,
      "outputs": [
        {
          "output_type": "stream",
          "name": "stdout",
          "text": [
            "Cloning into 'text-mining'...\n",
            "remote: Enumerating objects: 39, done.\u001b[K\n",
            "remote: Counting objects: 100% (39/39), done.\u001b[K\n",
            "remote: Compressing objects: 100% (29/29), done.\u001b[K\n",
            "remote: Total 39 (delta 13), reused 25 (delta 7), pack-reused 0 (from 0)\u001b[K\n",
            "Receiving objects: 100% (39/39), 903.15 KiB | 2.96 MiB/s, done.\n",
            "Resolving deltas: 100% (13/13), done.\n",
            "/content/text-mining\n"
          ]
        }
      ]
    },
    {
      "cell_type": "code",
      "source": [
        "# FROM CHATPGT, how to convert R lists.RDS to Python dict\n",
        "import rpy2.robjects as ro\n",
        "from rpy2.robjects import pandas2ri\n",
        "\n",
        "# Activate pandas conversion for data frames if needed\n",
        "pandas2ri.activate()\n",
        "\n",
        "# Load the RDS file\n",
        "readRDS = ro.r['readRDS']\n",
        "list_report = readRDS(\"combined_stats_report_list.RDS\")\n",
        "\n",
        "# Convert R list to Python list\n",
        "list_report_py = list(list_report)\n",
        "\n",
        "# If elements are R lists, convert them to Python dicts\n",
        "list_report_py = [\n",
        "    dict(zip(item.names, list(item))) if hasattr(item, \"names\") else list(item)\n",
        "    for item in list_report_py\n",
        "]"
      ],
      "metadata": {
        "id": "QjXRrBJFantA"
      },
      "execution_count": 6,
      "outputs": []
    },
    {
      "cell_type": "code",
      "source": [
        "print(type(list_report_py))\n",
        "print(len(list_report_py))\n",
        "print(type(list_report_py[0]))\n",
        "if isinstance(list_report_py[0], dict):\n",
        "    print(list_report_py[0].keys())  # List the keys of the first dictionary\n",
        "\n",
        "for key, value in list_report_py[0].items():\n",
        "    print(f\"{key}: {value}\")"
      ],
      "metadata": {
        "colab": {
          "base_uri": "https://localhost:8080/"
        },
        "id": "hhrrsLeuauLt",
        "outputId": "82876459-4774-4c6e-a6b1-62ca74505ac2"
      },
      "execution_count": 7,
      "outputs": [
        {
          "output_type": "stream",
          "name": "stdout",
          "text": [
            "<class 'list'>\n",
            "158\n",
            "<class 'dict'>\n",
            "dict_keys(['hteam', 'ateam', 'starttime', 'score', 'home_players', 'away_players', 'report'])\n",
            "hteam: [1] \"Manchester United\"\n",
            "\n",
            "ateam: [1] \"Fulham\"\n",
            "\n",
            "starttime: [1] \"2024-08-16T19:00:00.000Z\"\n",
            "\n",
            "score: [1 0]\n",
            "home_players:          ID                Name Position FotMob.rating Minutes.played Goals  \\\n",
            "1    611491         Andre Onana  Starter           8.7             90     0   \n",
            "2    775539   Noussair Mazraoui  Starter           7.8             81     0   \n",
            "3    255610       Harry Maguire  Starter          7.66             81     0   \n",
            "4    847983   Lisandro Martinez  Starter          7.63             90     0   \n",
            "5    751550         Diogo Dalot  Starter          7.68             90     0   \n",
            "6    208494            Casemiro  Starter          8.01             90     0   \n",
            "7   1292810       Kobbie Mainoo  Starter          7.79             84     0   \n",
            "8   1070052         Amad Diallo  Starter          7.03             61     0   \n",
            "9    750032         Mason Mount  Starter          6.46             61     0   \n",
            "10   696365     Marcus Rashford  Starter          6.65             90     0   \n",
            "11   422685     Bruno Fernandes  Starter          7.39             90     0   \n",
            "12  1203665  Alejandro Garnacho      Sub          7.27             29     0   \n",
            "13   950830      Joshua Zirkzee      Sub          7.34             29     1   \n",
            "14    43248         Jonny Evans      Sub             0              9     0   \n",
            "15   769895    Matthijs de Ligt      Sub             0              9     0   \n",
            "16   843099     Scott McTominay      Sub             0              6     0   \n",
            "17   866967      Altay Bayindir      Sub             0              0     0   \n",
            "18   157723   Christian Eriksen      Sub             0              0     0   \n",
            "19  1421810        Toby Collyer      Sub             0              0     0   \n",
            "20   967622              Antony      Sub             0              0     0   \n",
            "\n",
            "   Assists Chances.created xG.Non.penalty Expected.assists..xA.  \n",
            "1        0               0              0                     0  \n",
            "2        0               0              0                  0.01  \n",
            "3        0               0              0                  0.01  \n",
            "4        0               1              0                  0.02  \n",
            "5        0               0              0                  0.02  \n",
            "6        0               3           0.16                   0.5  \n",
            "7        0               0           0.03                  0.01  \n",
            "8        0               1              0                  0.13  \n",
            "9        0               2            0.3                  0.03  \n",
            "10       0               1              0                  0.11  \n",
            "11       0               0           1.19                  0.03  \n",
            "12       1               2           0.68                  0.09  \n",
            "13       0               0           0.07                     0  \n",
            "14       0               0              0                     0  \n",
            "15       0               0              0                     0  \n",
            "16       0               0              0                     0  \n",
            "17       0               0              0                     0  \n",
            "18       0               0              0                     0  \n",
            "19       0               0              0                     0  \n",
            "20       0               0              0                     0  \n",
            "away_players:          ID                  Name Position FotMob.rating Minutes.played Goals  \\\n",
            "1    215168            Bernd Leno  Starter          7.22             90     0   \n",
            "2    469804            Kenny Tete  Starter          6.54             90     0   \n",
            "3    696443             Issa Diop  Starter          6.74             90     0   \n",
            "4    877401         Calvin Bassey  Starter          5.99             90     0   \n",
            "5    662428      Antonee Robinson  Starter          7.67             90     0   \n",
            "6    575779       Andreas Pereira  Starter          7.44             89     0   \n",
            "7    556972            Sasa Lukic  Starter          7.13             89     0   \n",
            "8    493647          Adama Traoré  Starter          6.74             78     0   \n",
            "9    889534      Emile Smith Rowe  Starter           6.6             64     0   \n",
            "10   604785            Alex Iwobi  Starter          6.26             90     0   \n",
            "11  1128945         Rodrigo Muniz  Starter          6.33             78     0   \n",
            "12   182962           Tom Cairney      Sub          6.79             26     0   \n",
            "13   494417          Harry Wilson      Sub          6.23             12     0   \n",
            "14   292313          Raul Jiménez      Sub           5.9             12     0   \n",
            "15   502420         Harrison Reed      Sub             0              1     0   \n",
            "16  1113816        Jay Stansfield      Sub             0              1     0   \n",
            "17   887969  Steven-Andreas Benda      Sub             0              0     0   \n",
            "18   821728          Jorge Cuenca      Sub             0              0     0   \n",
            "19   465750      Timothy Castagne      Sub             0              0     0   \n",
            "20  1422593           Joshua King      Sub             0              0     0   \n",
            "\n",
            "   Assists Chances.created xG.Non.penalty Expected.assists..xA.  \n",
            "1        0               0              0                     0  \n",
            "2        0               0           0.09                     0  \n",
            "3        0               0              0                     0  \n",
            "4        0               0            0.1                  0.03  \n",
            "5        0               0              0                  0.01  \n",
            "6        0               6              0                  0.16  \n",
            "7        0               0              0                  0.01  \n",
            "8        0               0            0.1                  0.02  \n",
            "9        0               0              0                     0  \n",
            "10       0               0           0.04                  0.15  \n",
            "11       0               2           0.11                     0  \n",
            "12       0               1              0                  0.05  \n",
            "13       0               0              0                  0.01  \n",
            "14       0               0              0                     0  \n",
            "15       0               0              0                     0  \n",
            "16       0               0              0                     0  \n",
            "17       0               0              0                     0  \n",
            "18       0               0              0                     0  \n",
            "19       0               0              0                     0  \n",
            "20       0               0              0                     0  \n",
            "report: [1] \"Joshua Zirkzee scored a dramatic late winner on his Manchester United debut as the Red Devils claimed a 1-0 victory over Fulham in the first Premier League match of 2024/25.  After recording their lowest-ever Premier League finish last season, United looked set to be frustrated at Old Trafford on Friday until their new striker diverted a deft finish past Fulham goalkeeper Bernd Leno in the 87th minute.  Introduced midway through the second half by Erik ten Hag, Zirkzee applied the crucial touch to fellow substitute Alejandro Garnacho’s teasing centre to settle the contest.  Bruno Fernandes had earlier squandered United’s best chances, with Leno in excellent form for the visitors.  But Zirkzee’s effort ensured United got the ball rolling as they begin their season with a perfect result. How the match unfolded With United debutant Noussair Mazraoui having made a vital intervention to prevent Alex Iwobi getting onto Adama Traore’s cutback, the hosts wanted a penalty when Amad Diallo took a tumble under pressure from Antonee Robinson, but there was nothing doing for referee Robert Jones, whose decision was confirmed by VAR.  Kenny Tete tested Andre Onana at the other end, before Fernandes – playing up front – twice had the chance to take centre stage. However, on both occasions he fluffed his lines when one-on-one with Leno.  Fulham’s goalkeeper was then on hand to deny Mason Mount in the second half. Former United midfielder Andreas Pereira should have made Leno’s work count when he had Iwobi in support and the home defence outnumbered on a counter, only for the Brazil international to pick out Harry Maguire.  His wastefulness proved costly in the closing stages. Garnacho’s low cross had just enough pace on it to find Zirkzee, who stuck out a leg to divert his finish into the bottom-left corner.  After a mistake from Calvin Bassey, United should have made sure of the result in the final minute of stoppage time, only for Garnacho to flap wildly after latching onto Marcus Rashford’s square ball, though that miss ultimately mattered little.  Zirkzee makes his mark  In the first match of United’s 100th top-flight season, one of the club’s newest editions – wearing the Red Devils’ iconic No 11 shirt – proved decisive. With Zirkzee, signed from Serie A side Bologna in July, having missed much of pre-season following his exploits with the Netherlands at UEFA EURO 2024 and not featuring in last week’s FA Community Shield, Ten Hag opted to push Fernandes into an unfamiliar striker role.  Opportunities did fall Fernandes’ way, but the lack of composure he showed in those first-half chances – which were both teed up by Casemiro – belied a player featuring out of position.  And while it may have taken almost 30 minutes after he was introduced to turn the contest, Zirkzee showed just how much damage a clinical striker can do, even if there were some question marks over whether Scott McTominay may have got the final touch.  With Rasmus Hojlund out injured, there is no reason why Zirkzee cannot stake his claim to lead United’s line. He has made a fantastic start, while in defence, fellow debutant Mazraoui proved his quality with an assured display at right-back.  Leno’s hard work undone, but Fulham can look up  Had Fulham held on for a point – or maybe even more – then it would have been in no small part down to the excellent Leno, who once again proved just how good of a shot-stopper he is.  While Fernandes should have done better in those one-v-ones, Leno made himself big and reacted sharply to charge off his line, as he did to thwart Mount early in the second half.  Marco Silva may be frustrated with his attackers, though. Fulham created openings, with Traore particularly impactful down the right flank, yet the Cottagers could just not apply the finishing touch, or find the final pass, when it mattered most.  With new England interim manager Lee Carsley watching on from the stands, Emile Smith Rowe had a rather quiet debut, though if Leno shows the same level of form throughout the campaign, there is no reason for the Cottagers not to have high hopes for this season, as long as that composure and guile does arrive in the final third.   Fulham will be eyeing their first points when they host promoted Leicester City next week.  Club reports Man Utd report | Fulham report Match officials Referee: Robert Jones. Assistants: Ian Hussin, Simon Bennett. Fourth official: Anthony Taylor. VAR: Jarred Gillett. Assistant VAR: Darren Cann.\"\n",
            "\n"
          ]
        }
      ]
    },
    {
      "cell_type": "code",
      "source": [
        "import pandas as pd\n",
        "from transformers import pipeline\n",
        "\n",
        "# Example Data: Sentences and Players\n",
        "sentences = [\n",
        "    \"Harry Kane scored a stunning goal in the 30th minute.\",\n",
        "    \"Kane was a constant threat to the opposition defense.\",\n",
        "    \"Son Heung-min played exceptionally well, providing an assist.\",\n",
        "    \"Son's dribbling was mesmerizing throughout the match.\",\n",
        "    \"Romero's defense was rock solid.\",\n",
        "    \"Romero made several crucial tackles.\",\n",
        "    \"Lloris made a crucial save to deny the opposition.\",\n",
        "]\n",
        "\n",
        "player_names = {\n",
        "    \"Harry Kane\": \"Kane\",\n",
        "    \"Son Heung-min\": \"Son\",\n",
        "    \"Cristian Romero\": \"Romero\",\n",
        "    \"Hugo Lloris\": \"Lloris\",\n",
        "}\n",
        "\n",
        "# Sentiment Analysis Model\n",
        "sentiment_model = pipeline(\"sentiment-analysis\", model=\"cardiffnlp/twitter-roberta-base-sentiment\")\n",
        "\n",
        "# Match sentences to players\n",
        "results = []\n",
        "\n",
        "for sentence in sentences:\n",
        "    for full_name, surname in player_names.items():\n",
        "        if full_name in sentence or surname in sentence:\n",
        "            sentiment = sentiment_model(sentence)[0]\n",
        "            results.append({\n",
        "                \"Player\": full_name,\n",
        "                \"Sentence\": sentence,\n",
        "                \"Sentiment\": sentiment[\"label\"],\n",
        "                \"Score\": sentiment[\"score\"]\n",
        "            })\n",
        "            break  # Avoid assigning the same sentence to multiple players\n",
        "\n",
        "# Convert results to DataFrame\n",
        "df = pd.DataFrame(results)\n",
        "\n",
        "# Calculate average sentiment score for each player\n",
        "average_scores = df.groupby(\"Player\").agg(\n",
        "    Average_Score=(\"Score\", \"mean\"),\n",
        "    Sentiment_Count=(\"Score\", \"count\")\n",
        ").reset_index()\n",
        "\n",
        "# Merge average scores back with the detailed DataFrame if needed\n",
        "detailed_with_averages = pd.merge(df, average_scores, on=\"Player\")\n",
        "\n",
        "# Display Results\n",
        "print(detailed_with_averages)\n"
      ],
      "metadata": {
        "id": "qc17cE55NQWK",
        "outputId": "21e0a62f-5811-490c-d435-ee802b52a143",
        "colab": {
          "base_uri": "https://localhost:8080/"
        }
      },
      "execution_count": 12,
      "outputs": [
        {
          "output_type": "stream",
          "name": "stderr",
          "text": [
            "Device set to use cpu\n"
          ]
        },
        {
          "output_type": "stream",
          "name": "stdout",
          "text": [
            "            Player                                           Sentence  \\\n",
            "0       Harry Kane  Harry Kane scored a stunning goal in the 30th ...   \n",
            "1       Harry Kane  Kane was a constant threat to the opposition d...   \n",
            "2    Son Heung-min  Son Heung-min played exceptionally well, provi...   \n",
            "3    Son Heung-min  Son's dribbling was mesmerizing throughout the...   \n",
            "4  Cristian Romero                   Romero's defense was rock solid.   \n",
            "5  Cristian Romero               Romero made several crucial tackles.   \n",
            "6      Hugo Lloris  Lloris made a crucial save to deny the opposit...   \n",
            "\n",
            "  Sentiment     Score  Average_Score  Sentiment_Count  \n",
            "0   LABEL_2  0.949972       0.789618                2  \n",
            "1   LABEL_0  0.629263       0.789618                2  \n",
            "2   LABEL_2  0.953478       0.959687                2  \n",
            "3   LABEL_2  0.965895       0.959687                2  \n",
            "4   LABEL_2  0.887097       0.726608                2  \n",
            "5   LABEL_2  0.566119       0.726608                2  \n",
            "6   LABEL_1  0.646724       0.646724                1  \n"
          ]
        }
      ]
    },
    {
      "cell_type": "code",
      "source": [
        "match_report = \"\"\"\n",
        "Harry Kane scored a stunning goal in the 30th minute.\n",
        "Son Heung-min played exceptionally well, providing two assists.\n",
        "Cristian Romero's defense was rock solid, but Hugo Lloris made a critical save in the second half.\n",
        "The team's overall performance was outstanding.\n",
        "Kane was beutiful today.\n",
        "\"\"\"\n",
        "\n",
        "# Split match report into sentences\n",
        "sentences = re.split(r'(?<=\\.)\\s+', match_report.strip())\n",
        "\n",
        "# Filter sentences mentioning only one player\n",
        "filtered_data = []\n",
        "for sentence in sentences:\n",
        "    mentions = [player for player in players if player in sentence]\n",
        "    if len(mentions) == 1:\n",
        "        filtered_data.append({\"Player\": mentions[0], \"Sentence\": sentence})\n",
        "\n",
        "\n",
        "filtered_data\n"
      ],
      "metadata": {
        "id": "bcNKm9M7NmCq",
        "outputId": "99ef5bee-6f63-4a91-9264-c8c3a326a899",
        "colab": {
          "base_uri": "https://localhost:8080/"
        }
      },
      "execution_count": 11,
      "outputs": [
        {
          "output_type": "execute_result",
          "data": {
            "text/plain": [
              "[{'Player': 'Harry Kane',\n",
              "  'Sentence': 'Harry Kane scored a stunning goal in the 30th minute.'},\n",
              " {'Player': 'Son Heung-min',\n",
              "  'Sentence': 'Son Heung-min played exceptionally well, providing two assists.'}]"
            ]
          },
          "metadata": {},
          "execution_count": 11
        }
      ]
    },
    {
      "cell_type": "code",
      "source": [
        "import re\n",
        "import pandas as pd\n",
        "from transformers import pipeline\n",
        "\n",
        "# Sentiment Analysis Model\n",
        "sentiment_model = pipeline(\"sentiment-analysis\", model=\"cardiffnlp/twitter-roberta-base-sentiment\")\n",
        "\n",
        "# Sentiment label translation\n",
        "label_translation = {\n",
        "    \"LABEL_0\": \"negative\",\n",
        "    \"LABEL_1\": \"neutral\",\n",
        "    \"LABEL_2\": \"positive\"\n",
        "}\n",
        "\n",
        "# Sentiment to numerical score mapping\n",
        "sentiment_to_score = {\n",
        "    \"negative\": -1,\n",
        "    \"neutral\": 0,\n",
        "    \"positive\": 1\n",
        "}\n",
        "\n",
        "# Function to extract and aggregate sentiment for players\n",
        "def extract_and_aggregate_sentiment(report, home_players, away_players):\n",
        "    # Step 1: Tokenize the report into sentences\n",
        "    sentences = re.split(r'(?<=[.!?]) +', report)\n",
        "\n",
        "    # Step 2: Initialize player_sentiments dictionary, including only players\n",
        "    # who played more than 9 minutes (needs minimum of 10 minutes to get a fotmob score)\n",
        "    player_names = {\n",
        "        player['Name']: player['Name'].split()[-1]  # Map full name to surname\n",
        "        for player in home_players + away_players\n",
        "        if int(player.get('Minutes.played', 0)) > 9\n",
        "    }\n",
        "\n",
        "    player_sentiments = {player: [] for player in player_names}  # Initialize aggregation structure\n",
        "\n",
        "    # Step 3: Analyze each sentence\n",
        "    for sentence in sentences:\n",
        "        # Find players mentioned in the sentence\n",
        "        players_in_sentence = [\n",
        "            full_name for full_name, surname in player_names.items()\n",
        "            if full_name in sentence or surname in sentence\n",
        "        ]\n",
        "\n",
        "        # Process the sentence if exactly one player is mentioned\n",
        "        if len(players_in_sentence) == 1:\n",
        "            full_name = players_in_sentence[0]  # Get the full name of the mentioned player\n",
        "            sentiment = sentiment_model(sentence)[0]\n",
        "\n",
        "            # Translate sentiment label and map to numerical score\n",
        "            translated_sentiment = label_translation.get(sentiment[\"label\"], sentiment[\"label\"])\n",
        "            sentiment_score = sentiment_to_score[translated_sentiment]\n",
        "\n",
        "            # Append sentiment score to the player's list\n",
        "            player_sentiments[full_name].append(sentiment_score)\n",
        "\n",
        "    # Step 4: Aggregate sentiments for each player\n",
        "    aggregated_results = []\n",
        "    for player, scores in player_sentiments.items():\n",
        "        if scores:  # If the player has sentiment scores\n",
        "            avg_score = sum(scores) / len(scores)  # Calculate the average sentiment score\n",
        "            if avg_score > 0:\n",
        "                aggregated_sentiment = \"positive\"\n",
        "            elif avg_score < 0:\n",
        "                aggregated_sentiment = \"negative\"\n",
        "            else:\n",
        "                aggregated_sentiment = \"neutral\"\n",
        "\n",
        "            aggregated_results.append({\n",
        "                \"Player\": player,\n",
        "                \"Average Sentiment\": aggregated_sentiment,\n",
        "                \"Scores\": scores  # Include raw scores for debugging\n",
        "            })\n",
        "\n",
        "\n",
        "    return pd.DataFrame(aggregated_results)\n"
      ],
      "metadata": {
        "colab": {
          "base_uri": "https://localhost:8080/"
        },
        "id": "KAIo83lTeTwT",
        "outputId": "eb2b4412-30a0-4898-8a05-4bf14c3837f5"
      },
      "execution_count": 29,
      "outputs": [
        {
          "output_type": "stream",
          "name": "stderr",
          "text": [
            "Device set to use cpu\n"
          ]
        }
      ]
    },
    {
      "cell_type": "code",
      "source": [
        "# Example data\n",
        "report = (\n",
        "    \"John Doe played exceptionally well. Smith struggled to keep up, he was shit. \"\n",
        "    \"The team captain, John Doe, scored the winning goal! Jane Smith made a great pass.\"\n",
        ")\n",
        "home_players = [\n",
        "    {\"Name\": \"John Doe\", \"Minutes.played\": \"90\"},\n",
        "    {\"Name\": \"Jane Smith\", \"Minutes.played\": \"85\"}\n",
        "]\n",
        "away_players = [\n",
        "    {\"Name\": \"Mark Lee\", \"Minutes.played\": \"75\"},\n",
        "    {\"Name\": \"Emily Brown\", \"Minutes.played\": \"15\"}\n",
        "]\n",
        "\n",
        "# Extract and aggregate sentiment\n",
        "df_aggregated_results = extract_and_aggregate_sentiment(report, home_players, away_players)\n",
        "\n",
        "# Display the results\n",
        "print(df_aggregated_results)\n"
      ],
      "metadata": {
        "id": "bZYHCAzONIRK",
        "outputId": "a7bf2112-6942-4cdf-a652-456c737f7ba0",
        "colab": {
          "base_uri": "https://localhost:8080/"
        }
      },
      "execution_count": 17,
      "outputs": [
        {
          "output_type": "stream",
          "name": "stdout",
          "text": [
            "       Player Average Sentiment   Scores\n",
            "0    John Doe          positive   [1, 1]\n",
            "1  Jane Smith           neutral  [-1, 1]\n"
          ]
        }
      ]
    },
    {
      "cell_type": "code",
      "source": [
        "# TEST of the first report, Manchester United vs Fulham, 16 aug, 21:00\n",
        "first_report = list_report_py[157]\n",
        "\n",
        "# Convert the R StrVector to a native Python string\n",
        "report_text = str(first_report['report'][0])  # If it's a single-element StrVector\n",
        "report_text_cleaned = report_text.replace(\"\\xa0\", \" \").strip()\n",
        "\n",
        "# Convert DataFrames to lists of dictionaries\n",
        "home_players = first_report['home_players'].to_dict('records')\n",
        "away_players = first_report['away_players'].to_dict('records')\n",
        "\n",
        "\n",
        "sentiments = extract_and_aggregate_sentiment(\n",
        "    report_text_cleaned,\n",
        "    home_players,\n",
        "    away_players\n",
        ")\n",
        "\n",
        "all_players = home_players + away_players\n",
        "player_ratings = {player['Name']: player.get('FotMob.rating', None) for player in all_players}\n",
        "\n",
        "# Add FotMob ratings to the sentiments DataFrame\n",
        "sentiments['FotMob Rating'] = sentiments['Player'].map(player_ratings)\n",
        "\n",
        "print(sentiments)"
      ],
      "metadata": {
        "id": "F0OpUYAFP1RX",
        "outputId": "3a2f33aa-17a6-49ce-f859-f0af6c9b09db",
        "colab": {
          "base_uri": "https://localhost:8080/"
        }
      },
      "execution_count": 49,
      "outputs": [
        {
          "output_type": "stream",
          "name": "stdout",
          "text": [
            "             Player Average Sentiment       Scores FotMob Rating\n",
            "0  Mateus Fernandes           neutral          [0]          6.16\n",
            "1         Pape Sarr           neutral       [0, 0]          8.89\n",
            "2    James Maddison          negative  [0, -1, -1]          9.16\n"
          ]
        }
      ]
    },
    {
      "cell_type": "code",
      "source": [
        "# Initialize an empty list to store results for all matches\n",
        "all_sentiments = []\n",
        "\n",
        "# Iterate over all reports in the list\n",
        "for report in list_report_py:\n",
        "    # Extract and clean the report text\n",
        "    report_text = str(report['report'][0])  # If it's a single-element StrVector\n",
        "    report_text_cleaned = report_text.replace(\"\\xa0\", \" \").strip()\n",
        "\n",
        "    # Convert DataFrames to lists of dictionaries\n",
        "    home_players = report['home_players'].to_dict('records')\n",
        "    away_players = report['away_players'].to_dict('records')\n",
        "\n",
        "    # Run sentiment extraction and aggregation\n",
        "    sentiments = extract_and_aggregate_sentiment(\n",
        "        report_text_cleaned,\n",
        "        home_players,\n",
        "        away_players\n",
        "    )\n",
        "\n",
        "    # Skip if sentiments is empty\n",
        "    if sentiments.empty:\n",
        "        continue\n",
        "\n",
        "    # Combine players and create a mapping for FotMob ratings\n",
        "    all_players = home_players + away_players\n",
        "    player_ratings = {player['Name']: player.get('FotMob.rating', None) for player in all_players}\n",
        "\n",
        "    # Add FotMob ratings to the sentiments DataFrame\n",
        "    sentiments['FotMob Rating'] = sentiments['Player'].map(player_ratings)\n",
        "\n",
        "    # Append the sentiments DataFrame to the list\n",
        "    all_sentiments.append(sentiments)\n",
        "\n",
        "# Combine all results into a single DataFrame\n",
        "final_sentiments = pd.concat(all_sentiments, ignore_index=True)\n",
        "\n"
      ],
      "metadata": {
        "id": "tQtLKKNgWPz0",
        "outputId": "b55a11a1-eb18-47e7-c061-b4896bde91d4",
        "colab": {
          "base_uri": "https://localhost:8080/"
        }
      },
      "execution_count": 48,
      "outputs": [
        {
          "output_type": "stream",
          "name": "stdout",
          "text": [
            "                Player Average Sentiment            Scores FotMob Rating\n",
            "0    Noussair Mazraoui          positive               [1]           7.8\n",
            "1          Mason Mount           neutral               [0]          6.46\n",
            "2       Joshua Zirkzee          positive  [1, 1, 1, -1, 0]          7.34\n",
            "3           Bernd Leno          negative       [-1, -1, 1]          7.22\n",
            "4     Omari Hutchinson           neutral               [0]          6.63\n",
            "..                 ...               ...               ...           ...\n",
            "607       Bryan Mbeumo           neutral               [0]          7.76\n",
            "608     Fabio Carvalho           neutral               [0]          6.41\n",
            "609   Mateus Fernandes           neutral               [0]          6.16\n",
            "610          Pape Sarr           neutral            [0, 0]          8.89\n",
            "611     James Maddison          negative       [0, -1, -1]          9.16\n",
            "\n",
            "[612 rows x 4 columns]\n"
          ]
        }
      ]
    },
    {
      "cell_type": "code",
      "source": [
        "import seaborn as sns\n",
        "import matplotlib.pyplot as plt\n",
        "\n",
        "# Make sure the 'Average Sentiment' column is categorized as 'positive', 'neutral', 'negative'\n",
        "final_sentiments['Average Sentiment'] = final_sentiments['Average Sentiment'].astype('category')\n",
        "final_sentiments['FotMob Rating'] = pd.to_numeric(final_sentiments['FotMob Rating'], errors='coerce')\n",
        "\n",
        "# Create the boxplot\n",
        "plt.figure(figsize=(10, 6))\n",
        "sns.boxplot(data=final_sentiments, x='Average Sentiment', y='FotMob Rating', palette='Set2')\n",
        "\n",
        "# Add titles and labels\n",
        "plt.title('FotMob Rating by Sentiment')\n",
        "plt.xlabel('Sentiment')\n",
        "plt.ylabel('FotMob Rating')\n",
        "\n",
        "# Show the plot\n",
        "plt.show()\n"
      ],
      "metadata": {
        "id": "d-dz2_O9Xqfi",
        "outputId": "b9f2bb04-7bed-4d82-9ef7-e87a8d3b8959",
        "colab": {
          "base_uri": "https://localhost:8080/",
          "height": 651
        }
      },
      "execution_count": 52,
      "outputs": [
        {
          "output_type": "stream",
          "name": "stderr",
          "text": [
            "<ipython-input-52-86d4dd02e4ef>:10: FutureWarning: \n",
            "\n",
            "Passing `palette` without assigning `hue` is deprecated and will be removed in v0.14.0. Assign the `x` variable to `hue` and set `legend=False` for the same effect.\n",
            "\n",
            "  sns.boxplot(data=final_sentiments, x='Average Sentiment', y='FotMob Rating', palette='Set2')\n"
          ]
        },
        {
          "output_type": "display_data",
          "data": {
            "text/plain": [
              "<Figure size 1000x600 with 1 Axes>"
            ],
            "image/png": "[encoded data removed]"
          },
          "metadata": {}
        }
      ]
    }
  ],
  "metadata": {
    "kernelspec": {
      "display_name": "Python 3 (ipykernel)",
      "language": "python",
      "name": "python3"
    },
    "language_info": {
      "codemirror_mode": {
        "name": "ipython",
        "version": 3
      },
      "file_extension": ".py",
      "mimetype": "text/x-python",
      "name": "python",
      "nbconvert_exporter": "python",
      "pygments_lexer": "ipython3",
      "version": "3.12.7"
    },
    "colab": {
      "provenance": [],
      "include_colab_link": true
    }
  },
  "nbformat": 4,
  "nbformat_minor": 0
}